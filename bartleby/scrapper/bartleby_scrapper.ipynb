{
 "cells": [
  {
   "cell_type": "code",
   "execution_count": null,
   "metadata": {},
   "outputs": [],
   "source": [
    "import requests\n",
    "from bs4 import BeautifulSoup\n",
    "import re\n",
    "import json"
   ]
  },
  {
   "cell_type": "code",
   "execution_count": null,
   "metadata": {},
   "outputs": [],
   "source": []
  },
  {
   "cell_type": "markdown",
   "metadata": {},
   "source": [
    "# scrapper"
   ]
  },
  {
   "cell_type": "code",
   "execution_count": null,
   "metadata": {
    "scrolled": true
   },
   "outputs": [],
   "source": [
    "def scrape_page_info(url ,essay_category):\n",
    "    res = requests.get(url)\n",
    "\n",
    "    soup = BeautifulSoup(res.text)\n",
    "    \n",
    "    info = soup.find('div',{'id':'h1-and-details'})\n",
    "    \n",
    "    essay_title = info.find('h1').getText(strip=True)\n",
    "    \n",
    "    other_info = info.find('div').findAll('span')\n",
    "    \n",
    "    word_count = int(other_info[0].getText(strip=True).replace(\" Words\",\"\"))\n",
    "    submitted = other_info[1].getText(strip=True)\n",
    "    page_count = other_info[2].getText(strip=True)\n",
    "    \n",
    "    record = {\n",
    "        \"essay_id\": url.split(\"/\")[-1],\n",
    "        \"essay_category\": essay_category,\n",
    "        \"essay_title\": essay_title,\n",
    "        \"word_count\": word_count,\n",
    "        \"submitted\": submitted,\n",
    "        \"page_count\": page_count,\n",
    "        \"essay_url\": url\n",
    "    }\n",
    "    \n",
    "    return record\n",
    "\n",
    "\n",
    "base = 'https://www.bartleby.com'\n",
    "cnt = 0\n",
    "\n",
    "url1 = 'https://www.bartleby.com/writing/'\n",
    "res1 = requests.get(url1)\n",
    "\n",
    "soup1 = BeautifulSoup(res1.text)\n",
    "\n",
    "page_sections1 = soup1.findAll('section')\n",
    "categories = page_sections1[4].findAll('li')\n",
    "for c in categories:\n",
    "    try:\n",
    "        category_name = c.find('a').getText(strip=True)\n",
    "        category_url = c.find('a')['href']\n",
    "\n",
    "        print(category_name,category_url)\n",
    "\n",
    "        url2 = category_url\n",
    "        res2 = requests.get(url2)\n",
    "\n",
    "        soup2 = BeautifulSoup(res2.text)\n",
    "\n",
    "        page_sections2 = soup2.findAll('section')\n",
    "\n",
    "\n",
    "\n",
    "\n",
    "        temp=0\n",
    "\n",
    "\n",
    "\n",
    "        # section 0\n",
    "        essays = page_sections2[0].findAll('a',{'class':'card__title'})\n",
    "        \n",
    "        temp += len(essays)\n",
    "\n",
    "        for essay in essays:\n",
    "            try:\n",
    "\n",
    "                essay_name = essay.getText(strip=True)\n",
    "                essay_url = base + essay['href']\n",
    "                essay_id = essay_url.split('/')[-1]\n",
    "                \n",
    "                \n",
    "#                 print(essay_id,essay_name,essay_url)\n",
    "                record = scrape_page_info(essay_url,category_name)\n",
    "#                 print(record)\n",
    "                \n",
    "                with open('data/{}.json'.format(essay_id) ,'w') as f:\n",
    "                    json.dump(record ,f)\n",
    "                \n",
    "                cnt += 1\n",
    "\n",
    "            except Exception as e:\n",
    "                    print('record error {} '.format(  e))\n",
    "\n",
    "\n",
    "        # section 1\n",
    "        essays = page_sections2[1].findAll('li')\n",
    "        \n",
    "        temp += len(essays)\n",
    "\n",
    "        for essay in essays:\n",
    "            try:\n",
    "\n",
    "                essay_name = essay.find('a').getText(strip=True)\n",
    "                essay_url = base + essay.find('a')['href']\n",
    "                essay_id = essay_url.split('/')[-1]\n",
    "\n",
    "#                 print(essay_id,essay_name,essay_url)\n",
    "                record = scrape_page_info(essay_url,category_name)\n",
    "#                 print(record)\n",
    "                \n",
    "                with open('data/{}.json'.format(essay_id) ,'w') as f:\n",
    "                    json.dump(record ,f)\n",
    "                \n",
    "                cnt += 1\n",
    "\n",
    "\n",
    "            except Exception as e:\n",
    "                    print('record error {} '.format(  e))\n",
    "                    \n",
    "        print(\"finished , category : {}  , essays_num : {} , from : {}\".format(category_name ,str(cnt) ,str(temp)))\n",
    "\n",
    "    except Exception as e:\n",
    "        print(\"page error\",e)\n",
    "    \n",
    "\n"
   ]
  },
  {
   "cell_type": "markdown",
   "metadata": {},
   "source": [
    "# stats"
   ]
  },
  {
   "cell_type": "code",
   "execution_count": null,
   "metadata": {},
   "outputs": [],
   "source": [
    "import os\n",
    "files = os.listdir('data')\n",
    "len(files)-1"
   ]
  },
  {
   "cell_type": "code",
   "execution_count": null,
   "metadata": {},
   "outputs": [],
   "source": [
    "names = []\n",
    "ids = []\n",
    "urls = []\n",
    "for file in files:\n",
    "    if file.endswith('.json'):\n",
    "        with open(\"data/\"+file , 'r') as f:\n",
    "            data = json.load(f)\n",
    "            names.append(data['essay_title'])\n",
    "            urls.append(data['essay_url'])\n",
    "            \n",
    "print('unique names : {}'.format(str(len(set(names)))))\n",
    "print('unique urls : {}'.format(str(len(set(urls)))))\n",
    "\n"
   ]
  },
  {
   "cell_type": "code",
   "execution_count": null,
   "metadata": {},
   "outputs": [],
   "source": [
    "len(categories)*500"
   ]
  },
  {
   "cell_type": "code",
   "execution_count": null,
   "metadata": {},
   "outputs": [],
   "source": [
    "print(\"expected patents : \",int(869 * 499500 / 1000))"
   ]
  },
  {
   "cell_type": "code",
   "execution_count": null,
   "metadata": {},
   "outputs": [],
   "source": []
  },
  {
   "cell_type": "code",
   "execution_count": null,
   "metadata": {},
   "outputs": [],
   "source": []
  }
 ],
 "metadata": {
  "kernelspec": {
   "display_name": "Python 3",
   "language": "python",
   "name": "python3"
  },
  "language_info": {
   "codemirror_mode": {
    "name": "ipython",
    "version": 3
   },
   "file_extension": ".py",
   "mimetype": "text/x-python",
   "name": "python",
   "nbconvert_exporter": "python",
   "pygments_lexer": "ipython3",
   "version": "3.7.3"
  }
 },
 "nbformat": 4,
 "nbformat_minor": 2
}
